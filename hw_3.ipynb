{
 "cells": [
  {
   "cell_type": "code",
   "execution_count": 24,
   "id": "2f601748-6f49-46a5-81d9-69b545c5ce4b",
   "metadata": {},
   "outputs": [],
   "source": [
    "import pprint"
   ]
  },
  {
   "cell_type": "markdown",
   "id": "f8e52204-8515-47d2-bad9-1986cfffd35f",
   "metadata": {},
   "source": [
    "Задание 1\n",
    "Дана переменная, в которой хранится словарь, содержащий гео-метки для каждого пользователя (пример структуры данных приведен ниже). Вам необходимо написать программу, которая выведет на экран множество уникальных гео-меток всех пользователей."
   ]
  },
  {
   "cell_type": "code",
   "execution_count": 5,
   "id": "377fd132-bd39-42dd-8bfd-32082ab7b2f7",
   "metadata": {},
   "outputs": [
    {
     "name": "stdout",
     "output_type": "stream",
     "text": [
      "{98, 35, 15, 213, 54, 119}\n"
     ]
    }
   ],
   "source": [
    "ids = {'user1': [213, 213, 213, 15, 213], \n",
    "       'user2': [54, 54, 119, 119, 119], \n",
    "       'user3': [213, 98, 98, 35]}\n",
    "geo = set()\n",
    "for user, items in ids.items():\n",
    "    for item in items:\n",
    "        geo.add(item)\n",
    "print(geo)\n",
    "    "
   ]
  },
  {
   "cell_type": "code",
   "execution_count": 7,
   "id": "6536d003-263d-44fe-b8a7-3ce049b068a0",
   "metadata": {},
   "outputs": [
    {
     "name": "stdout",
     "output_type": "stream",
     "text": [
      "{98, 35, 15, 213, 54, 119}\n"
     ]
    }
   ],
   "source": [
    "ids = {'user1': [213, 213, 213, 15, 213], \n",
    "       'user2': [54, 54, 119, 119, 119], \n",
    "       'user3': [213, 98, 98, 35]}\n",
    "result = set()\n",
    "for i in ids.values():\n",
    "  result.update(i)\n",
    "print(set(sum(ids.values(), [])))"
   ]
  },
  {
   "cell_type": "markdown",
   "id": "9c8615c7-e1f8-44e1-a5af-f88458df85b0",
   "metadata": {},
   "source": [
    "Задание 2\n",
    "Дана переменная, в которой хранится список поисковых запросов пользователя (пример структуры данных приведен ниже, но запросы потенциально могут быть любые). Вам необходимо написать программу, которая выведет на экран распределение количества слов в запросах в требуемом виде."
   ]
  },
  {
   "cell_type": "code",
   "execution_count": 9,
   "id": "20da440b-ea13-41e6-9de0-28d07510e179",
   "metadata": {},
   "outputs": [
    {
     "name": "stdout",
     "output_type": "stream",
     "text": [
      "Кол-во слов в запросе 3  - 57 %\n",
      "Кол-во слов в запросе 2  - 43 %\n"
     ]
    }
   ],
   "source": [
    "queries = [\n",
    "    'смотреть сериалы онлайн',\n",
    "    'новости спорта',\n",
    "    'афиша кино',\n",
    "    'курс доллара',\n",
    "    'сериалы этим летом',\n",
    "    'курс по питону',\n",
    "    'сериалы про спорт',\n",
    "]\n",
    "\n",
    "total_request_quantity = len(queries)  # общее кол-во запросов\n",
    "\n",
    "dct = {}  # Временный словарь куда пишем статистику своеобразная база данных\n",
    "\n",
    "for query in queries:\n",
    "    count = len(query.split())\n",
    "    dct[count] = dct.get(count, 0) + 1\n",
    "\n",
    "# Для каждого элемента словаря, т.е. для каждого кол-ва слов расчитываем процент и выводим на печать\n",
    "for key in dct:\n",
    "    percent_of_queries = round(dct[key] / total_request_quantity * 100)\n",
    "    print(f'Кол-во слов в запросе {key}  - {percent_of_queries} %')"
   ]
  },
  {
   "cell_type": "markdown",
   "id": "fc1cb827-5493-4063-a13f-d706d5252b21",
   "metadata": {},
   "source": [
    "Задание 3\n",
    "Дана переменная, в которой хранится информация о затратах и доходе рекламных кампаний по различным источникам. Необходимо дополнить исходную структуру показателем ROI, который рассчитаем по формуле: ((revenue / cost) - 1) * 100"
   ]
  },
  {
   "cell_type": "code",
   "execution_count": 28,
   "id": "fffbb54a-2714-45d9-bc1c-1cb22869c170",
   "metadata": {},
   "outputs": [
    {
     "name": "stdout",
     "output_type": "stream",
     "text": [
      "{'vk': {'revenue': 103, 'cost': 98, 'ROI': 5.1}, 'yandex': {'revenue': 179, 'cost': 153, 'ROI': 16.99}, 'facebook': {'revenue': 103, 'cost': 110, 'ROI': -6.36}, 'adwords': {'revenue': 35, 'cost': 34, 'ROI': 2.94}, 'twitter': {'revenue': 11, 'cost': 24, 'ROI': -54.17}}\n"
     ]
    }
   ],
   "source": [
    "results = {\n",
    "    'vk': {'revenue': 103, 'cost': 98},\n",
    "    'yandex': {'revenue': 179, 'cost': 153},\n",
    "    'facebook': {'revenue': 103, 'cost': 110},\n",
    "    'adwords': {'revenue': 35, 'cost': 34},\n",
    "    'twitter': {'revenue': 11, 'cost': 24},\n",
    "}\n",
    "\n",
    "for company, expenses in results.items():\n",
    "    dct1 = {}\n",
    "    dct1['ROI'] = round(((expenses['revenue'] / expenses['cost']) - 1) * 100, 2)\n",
    "    expenses.update(dct1)\n",
    "print(results)    \n",
    "    "
   ]
  },
  {
   "cell_type": "markdown",
   "id": "02e7f0d3-64c1-47b0-b015-7e2bb980f390",
   "metadata": {},
   "source": [
    "Задание 4\n",
    "Дана переменная, в которой хранится статистика рекламных каналов по объемам продаж (пример структуры данных приведен ниже). Напишите программу, которая возвращает название канала с максимальным объемом продаж."
   ]
  },
  {
   "cell_type": "code",
   "execution_count": 29,
   "id": "2c70c9ed-e2f7-4b65-adfd-3f8636db98e0",
   "metadata": {},
   "outputs": [
    {
     "name": "stdout",
     "output_type": "stream",
     "text": [
      "Больше всего продаж у vk\n"
     ]
    }
   ],
   "source": [
    "stats = {'facebook': 55, 'yandex': 115, 'vk': 120, 'google': 99, 'email': 42, 'ok': 98}\n",
    "max_sales = 0\n",
    "big_channel = None\n",
    "for channel, sale in stats.items():\n",
    "  if sale > max_sales:\n",
    "     big_channel = channel\n",
    "     max_sales = sale\n",
    "print(f'Больше всего продаж у {big_channel}')"
   ]
  },
  {
   "cell_type": "code",
   "execution_count": null,
   "id": "907a3522-2503-4f12-a956-7f6f63871425",
   "metadata": {},
   "outputs": [],
   "source": []
  }
 ],
 "metadata": {
  "kernelspec": {
   "display_name": "Python 3 (ipykernel)",
   "language": "python",
   "name": "python3"
  },
  "language_info": {
   "codemirror_mode": {
    "name": "ipython",
    "version": 3
   },
   "file_extension": ".py",
   "mimetype": "text/x-python",
   "name": "python",
   "nbconvert_exporter": "python",
   "pygments_lexer": "ipython3",
   "version": "3.8.9"
  }
 },
 "nbformat": 4,
 "nbformat_minor": 5
}
